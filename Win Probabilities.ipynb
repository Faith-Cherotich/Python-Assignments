{
 "cells": [
  {
   "cell_type": "code",
   "execution_count": null,
   "id": "5df217d4",
   "metadata": {},
   "outputs": [],
   "source": [
    "import requests\n",
    "\n",
    "# Retrieving data from the API\n",
    "standings_url = \"https://api.football-data.org/v4/competitions/PL/standings?season=2024\" \\\n",
    "\"\"\n",
    "headers = {\n",
    "    \"X-Auth-Token\": \"api_key\"\n",
    "}\n",
    "\n",
    "response = requests.get(standings_url, headers=headers)\n",
    "standings_data = response.json()\n",
    "\n",
    "def win_probability(standings_data):\n",
    "    teams_win_probabilities = []\n",
    "    table = standings_data[\"standings\"][0][\"table\"]  \n",
    "\n",
    "    for row in table:\n",
    "        team_name = row[\"team\"][\"name\"]\n",
    "        wins = row[\"won\"]\n",
    "        played = row[\"playedGames\"]\n",
    "        if played > 0:\n",
    "            win_rate = (wins / played) * 100\n",
    "            teams_win_probabilities.append({\"team\": team_name, \"playedGames\": played, \"won\": wins, \"win_rate\": round(win_rate, 2)})\n",
    "        else:\n",
    "            print(f\"Skipping {row['team']['name']} because playedGames={played}\")\n",
    "    print(f\"Total teams processed: {len(teams_win_probabilities)}\")\n",
    "    return teams_win_probabilities\n",
    "\n",
    "results = win_probability(standings_data)\n",
    "for index, team in enumerate(results, start=1):\n",
    "    print(f\"{index}. {team['team']}: \\nPlayed Games- {team['playedGames']}, Wins- {team['won']}, {team['win_rate']}% win rate\")\n",
    "\n",
    "\n"
   ]
  }
 ],
 "metadata": {
  "language_info": {
   "name": "python"
  }
 },
 "nbformat": 4,
 "nbformat_minor": 5
}
